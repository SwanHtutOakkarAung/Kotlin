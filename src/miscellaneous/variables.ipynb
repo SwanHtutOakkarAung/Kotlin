{
 "cells": [
  {
   "metadata": {},
   "cell_type": "markdown",
   "source": "MUTABLE VARIABLES VS IMMUTABLE VARIABLES"
  },
  {
   "metadata": {
    "ExecuteTime": {
     "end_time": "2025-05-29T11:29:40.772378300Z",
     "start_time": "2025-05-29T11:29:40.606601900Z"
    }
   },
   "cell_type": "code",
   "source": [
    "/**var allows mutability*/\n",
    "var name = \"Local Host\"\n",
    "name = \"Server Host\""
   ],
   "outputs": [],
   "execution_count": 1
  },
  {
   "metadata": {},
   "cell_type": "code",
   "outputs": [],
   "execution_count": null,
   "source": [
    "/**val allows immutabiltiy*/\n",
    "val name = \"Local Host\"\n",
    "//name = \"Server Host\" => cannot reassign"
   ]
  },
  {
   "metadata": {},
   "cell_type": "markdown",
   "source": "VARIABLE DECLARATION"
  },
  {
   "metadata": {},
   "cell_type": "code",
   "outputs": [],
   "execution_count": null,
   "source": [
    "/**Method 1\n",
    " *This is type inference*/\n",
    "val name = \"Penye\""
   ]
  },
  {
   "metadata": {},
   "cell_type": "code",
   "outputs": [],
   "execution_count": null,
   "source": [
    "/**Method 2*/\n",
    "var age: Byte = 26"
   ]
  },
  {
   "metadata": {},
   "cell_type": "code",
   "outputs": [],
   "execution_count": null,
   "source": [
    "/**Method 3\n",
    " *Cannot be used with val keyowrd*/\n",
    "var point: Int\n",
    "point = 99"
   ]
  }
 ],
 "metadata": {
  "kernelspec": {
   "display_name": "Kotlin",
   "language": "kotlin",
   "name": "kotlin"
  },
  "language_info": {
   "name": "kotlin",
   "version": "1.9.23",
   "mimetype": "text/x-kotlin",
   "file_extension": ".kt",
   "pygments_lexer": "kotlin",
   "codemirror_mode": "text/x-kotlin",
   "nbconvert_exporter": ""
  }
 },
 "nbformat": 4,
 "nbformat_minor": 0
}
