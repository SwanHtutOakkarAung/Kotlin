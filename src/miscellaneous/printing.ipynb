{
 "cells": [
  {
   "metadata": {},
   "cell_type": "markdown",
   "source": "Print Vs Println"
  },
  {
   "metadata": {
    "ExecuteTime": {
     "end_time": "2025-05-29T09:48:21.175728400Z",
     "start_time": "2025-05-29T09:48:20.986245800Z"
    }
   },
   "cell_type": "code",
   "source": [
    "/**println => \\n*/\n",
    "print(\"Hello\")\n",
    "print(\" Kotlin\")\n",
    "println(\" !\")\n",
    "print(\"Ends at another line.\")"
   ],
   "outputs": [
    {
     "name": "stdout",
     "output_type": "stream",
     "text": [
      "Hello Kotlin !\r\n",
      "Ends at another line."
     ]
    }
   ],
   "execution_count": 2
  }
 ],
 "metadata": {
  "kernelspec": {
   "display_name": "Kotlin",
   "language": "kotlin",
   "name": "kotlin"
  },
  "language_info": {
   "name": "kotlin",
   "version": "1.9.23",
   "mimetype": "text/x-kotlin",
   "file_extension": ".kt",
   "pygments_lexer": "kotlin",
   "codemirror_mode": "text/x-kotlin",
   "nbconvert_exporter": ""
  }
 },
 "nbformat": 4,
 "nbformat_minor": 0
}
