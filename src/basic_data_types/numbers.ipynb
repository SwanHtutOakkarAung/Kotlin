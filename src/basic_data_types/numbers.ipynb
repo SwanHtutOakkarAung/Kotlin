{
 "cells": [
  {
   "metadata": {},
   "cell_type": "markdown",
   "source": "NUMBER DATA TYPES"
  },
  {
   "metadata": {},
   "cell_type": "markdown",
   "source": "SIGNED INTEGERS"
  },
  {
   "metadata": {},
   "cell_type": "code",
   "outputs": [
    {
     "name": "stdout",
     "output_type": "stream",
     "text": [
      "Minimal value of byte is -128\r\n",
      "Maximal value of byte is 127\r\n",
      "Size of `Byte` in bits is 8\r\n"
     ]
    }
   ],
   "execution_count": 19,
   "source": [
    "/**Byte*/\n",
    "val byteMin: Byte = Byte.MIN_VALUE\n",
    "println(\"Minimal value of byte is $byteMin\")\n",
    "\n",
    "val byteMax: Byte = Byte.MAX_VALUE\n",
    "println(\"Maximal value of byte is $byteMax\")\n",
    "\n",
    "val byteSize = Byte.SIZE_BITS\n",
    "println(\"Size of `Byte` in bits is $byteSize\")"
   ]
  },
  {
   "metadata": {
    "ExecuteTime": {
     "end_time": "2025-05-24T07:19:57.009207400Z",
     "start_time": "2025-05-24T07:19:56.935390400Z"
    }
   },
   "cell_type": "code",
   "source": [
    "/**Short*/\n",
    "val shortMin: Short = Short.MIN_VALUE\n",
    "println(\"Minimal value of short is $shortMin\")\n",
    "\n",
    "val shortMax: Short = Short.MAX_VALUE\n",
    "println(\"Maximal value of short is $shortMax\")\n",
    "\n",
    "val shortSize = Short.SIZE_BITS\n",
    "println(\"Size of `Short` in bits is $shortSize\")"
   ],
   "outputs": [
    {
     "name": "stdout",
     "output_type": "stream",
     "text": [
      "Minimal value of short is -32768\r\n",
      "Maximal value of short is 32767\r\n",
      "Size of `Short` in bits is 16\r\n"
     ]
    }
   ],
   "execution_count": 21
  },
  {
   "metadata": {
    "ExecuteTime": {
     "end_time": "2025-05-24T07:21:34.433861100Z",
     "start_time": "2025-05-24T07:21:34.354646500Z"
    }
   },
   "cell_type": "code",
   "source": [
    "/**Int*/\n",
    "val intMin: Int = Int.MIN_VALUE\n",
    "println(\"Minimal value of int is $intMin\")\n",
    "\n",
    "val intMax: Int = Int.MAX_VALUE\n",
    "println(\"Maximal value of int is $intMax\")\n",
    "\n",
    "val intSize = Int.SIZE_BITS\n",
    "println(\"Size of `Int` in bits is $intSize\")"
   ],
   "outputs": [
    {
     "name": "stdout",
     "output_type": "stream",
     "text": [
      "Minimal value of int is -2147483648\r\n",
      "Maximal value of int is 2147483647\r\n",
      "Size of `Int` in bits is 32\r\n"
     ]
    }
   ],
   "execution_count": 22
  },
  {
   "metadata": {
    "ExecuteTime": {
     "end_time": "2025-05-24T07:23:45.282955Z",
     "start_time": "2025-05-24T07:23:45.184709500Z"
    }
   },
   "cell_type": "code",
   "source": [
    "/**Long*/\n",
    "val longMin: Long = Long.MIN_VALUE\n",
    "println(\"Minimal value of long is $longMin\")\n",
    "\n",
    "val longMax: Long = Long.MAX_VALUE\n",
    "println(\"Maximal value of long is $longMax\")\n",
    "\n",
    "val longSize = Long.SIZE_BITS\n",
    "println(\"Size of `Long` in bits is $longSize\")"
   ],
   "outputs": [
    {
     "name": "stdout",
     "output_type": "stream",
     "text": [
      "Minimal value of long is -9223372036854775808\r\n",
      "Maximal value of long is 9223372036854775807\r\n",
      "Size of `Long` in bits is 64\r\n"
     ]
    }
   ],
   "execution_count": 23
  },
  {
   "metadata": {},
   "cell_type": "markdown",
   "source": "UNSIGNED INTEGERS"
  },
  {
   "metadata": {
    "ExecuteTime": {
     "end_time": "2025-05-29T10:30:02.628502300Z",
     "start_time": "2025-05-29T10:30:02.067320600Z"
    }
   },
   "cell_type": "code",
   "source": [
    "/**Unsigned Byte*/\n",
    "val UbyteMin: UByte = UByte.MIN_VALUE\n",
    "println(\"Minimal value of unsigned byte is $UbyteMin\")\n",
    "\n",
    "val UbyteMax: UByte = UByte.MAX_VALUE\n",
    "println(\"Maximal value of unsigned byte is $UbyteMax\")\n",
    "\n",
    "val UbyteSize = UByte.SIZE_BITS\n",
    "println(\"Size of `Unsigned Byte` in bits is $UbyteSize\")"
   ],
   "outputs": [
    {
     "name": "stdout",
     "output_type": "stream",
     "text": [
      "Minimal value of unsigned byte is 0\r\n",
      "Maximal value of unsigned byte is 255\r\n",
      "Size of `Unsigned Byte` in bits is 8\r\n"
     ]
    }
   ],
   "execution_count": 1
  },
  {
   "metadata": {
    "ExecuteTime": {
     "end_time": "2025-05-29T10:32:29.456353800Z",
     "start_time": "2025-05-29T10:32:29.273606Z"
    }
   },
   "cell_type": "code",
   "source": [
    "/**Unsigned Short*/\n",
    "val UshortMin: UShort = UShort.MIN_VALUE\n",
    "println(\"Minimal value of unsigned short is $UshortMin\")\n",
    "\n",
    "val UshortMax: UShort = UShort.MAX_VALUE\n",
    "println(\"Maximal value of unsigned short is $UshortMax\")\n",
    "\n",
    "val UshortSize = UShort.SIZE_BITS\n",
    "println(\"Size of `Unsigned Short` in bits is $UshortSize\")"
   ],
   "outputs": [
    {
     "name": "stdout",
     "output_type": "stream",
     "text": [
      "Minimal value of unsigned short is 0\r\n",
      "Maximal value of unsigned short is 65535\r\n",
      "Size of `Unsigned Short` in bits is 16\r\n"
     ]
    }
   ],
   "execution_count": 2
  },
  {
   "metadata": {
    "ExecuteTime": {
     "end_time": "2025-05-29T10:33:46.956267Z",
     "start_time": "2025-05-29T10:33:46.770399400Z"
    }
   },
   "cell_type": "code",
   "source": [
    "/**Unsigned Int*/\n",
    "val UintMin: UInt = UInt.MIN_VALUE\n",
    "println(\"Minimal value of unsigned int is $UintMin\")\n",
    "\n",
    "val UintMax: UInt = UInt.MAX_VALUE\n",
    "println(\"Maximal value of unsigned int is $UintMax\")\n",
    "\n",
    "val UintSize = UInt.SIZE_BITS\n",
    "println(\"Size of `Unsigned Int` in bits is $UintSize\")"
   ],
   "outputs": [
    {
     "name": "stdout",
     "output_type": "stream",
     "text": [
      "Minimal value of int is 0\r\n",
      "Maximal value of int is 4294967295\r\n",
      "Size of `Int` in bits is 32\r\n"
     ]
    }
   ],
   "execution_count": 3
  },
  {
   "metadata": {
    "ExecuteTime": {
     "end_time": "2025-05-29T10:35:34.806176200Z",
     "start_time": "2025-05-29T10:35:34.593769400Z"
    }
   },
   "cell_type": "code",
   "source": [
    "/**Unsigned Long*/\n",
    "val UlongMin: ULong = ULong.MIN_VALUE\n",
    "println(\"Minimal value of unsigned long is $UlongMin\")\n",
    "\n",
    "val UlongMax: ULong = ULong.MAX_VALUE\n",
    "println(\"Maximal value of unsigned long is $UlongMax\")\n",
    "\n",
    "val longSize = Long.SIZE_BITS\n",
    "println(\"Size of `Unsigned Long` in bits is $longSize\")"
   ],
   "outputs": [
    {
     "name": "stdout",
     "output_type": "stream",
     "text": [
      "Minimal value of unsigned long is 0\r\n",
      "Maximal value of unsigned long is 18446744073709551615\r\n",
      "Size of `Unsigned Long` in bits is 64\r\n"
     ]
    }
   ],
   "execution_count": 4
  },
  {
   "metadata": {},
   "cell_type": "markdown",
   "source": "FLOATING POINTS"
  },
  {
   "metadata": {
    "ExecuteTime": {
     "end_time": "2025-05-24T07:32:02.914362400Z",
     "start_time": "2025-05-24T07:32:02.843249900Z"
    }
   },
   "cell_type": "code",
   "source": [
    "/**Float*/\n",
    "val floatMin: Float = Float.MIN_VALUE\n",
    "println(\"Minimal value of float is $floatMin\")\n",
    "\n",
    "val floatMax: Float = Float.MAX_VALUE\n",
    "println(\"Maximal value of float is $floatMax\")\n",
    "\n",
    "val floatSize = Float.SIZE_BITS\n",
    "println(\"Size of `Float` in bits is $floatSize\")\n",
    "\n",
    "/**Signigicant bits = 24\n",
    " * Exponent bits = 8\n",
    " * Decimal digits = 6-7*/"
   ],
   "outputs": [
    {
     "name": "stdout",
     "output_type": "stream",
     "text": [
      "Minimal value of float is 1.4E-45\r\n",
      "Maximal value of float is 3.4028235E38\r\n",
      "Size of `Float` in bits is 32\r\n"
     ]
    }
   ],
   "execution_count": 26
  },
  {
   "metadata": {
    "ExecuteTime": {
     "end_time": "2025-05-24T07:34:48.048647500Z",
     "start_time": "2025-05-24T07:34:47.964808700Z"
    }
   },
   "cell_type": "code",
   "source": [
    "/**Double*/\n",
    "val doubleMin: Double = Double.MIN_VALUE\n",
    "println(\"Minimal value of double is $doubleMin\")\n",
    "\n",
    "val doubleMax: Double = Double.MAX_VALUE\n",
    "println(\"Maximal value of double is $doubleMax\")\n",
    "\n",
    "val doubleSize = Double.SIZE_BITS\n",
    "println(\"Size of `Double` in bits is $doubleSize\")\n",
    "\n",
    "/**Signigicant bits = 53\n",
    " * Exponent bits = 11\n",
    " * Decimal digits = 15-16*/\n"
   ],
   "outputs": [
    {
     "name": "stdout",
     "output_type": "stream",
     "text": [
      "Minimal value of double is 4.9E-324\r\n",
      "Maximal value of double is 1.7976931348623157E308\r\n",
      "Size of `Double` in bits is 64\r\n"
     ]
    }
   ],
   "execution_count": 27
  }
 ],
 "metadata": {
  "kernelspec": {
   "display_name": "Kotlin",
   "language": "kotlin",
   "name": "kotlin"
  },
  "language_info": {
   "name": "kotlin",
   "version": "1.9.23",
   "mimetype": "text/x-kotlin",
   "file_extension": ".kt",
   "pygments_lexer": "kotlin",
   "codemirror_mode": "text/x-kotlin",
   "nbconvert_exporter": ""
  }
 },
 "nbformat": 4,
 "nbformat_minor": 0
}
