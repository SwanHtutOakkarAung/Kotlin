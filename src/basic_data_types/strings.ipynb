{
 "cells": [
  {
   "metadata": {},
   "cell_type": "markdown",
   "source": "STRING DATA TYPES"
  },
  {
   "metadata": {},
   "cell_type": "code",
   "outputs": [
    {
     "name": "stdout",
     "output_type": "stream",
     "text": [
      "Full Name : Rikai Hong Penye Dane\r\n"
     ]
    }
   ],
   "execution_count": 6,
   "source": [
    "/**String interpolation with String Data Types*/\n",
    "val firstName = \"Rikai\"\n",
    "val middleName = \"Hong Penye\"\n",
    "val lastName = \"Dane\"\n",
    "println(\"Full Name : $firstName $middleName $lastName\")"
   ]
  },
  {
   "metadata": {},
   "cell_type": "code",
   "outputs": [
    {
     "name": "stdout",
     "output_type": "stream",
     "text": [
      "My name is Penye and I am 26 years old.\r\n"
     ]
    }
   ],
   "execution_count": 7,
   "source": [
    "/**String interpolation with String and Number Data Types*/\n",
    "val name : String = \"Penye\"\n",
    "val age : Byte = 26\n",
    "println(\"My name is $name and I am $age years old.\")"
   ]
  },
  {
   "metadata": {
    "ExecuteTime": {
     "end_time": "2025-05-29T10:13:32.847221200Z",
     "start_time": "2025-05-29T10:13:32.693753Z"
    }
   },
   "cell_type": "code",
   "source": [
    "/**length*/\n",
    "val userName = \"Isaac Aunng\"\n",
    "println(\"The `length` of a string is ${userName.length}\")"
   ],
   "outputs": [
    {
     "name": "stdout",
     "output_type": "stream",
     "text": [
      "The `length` of a string is 11\r\n"
     ]
    }
   ],
   "execution_count": 8
  },
  {
   "metadata": {
    "ExecuteTime": {
     "end_time": "2025-05-29T10:13:57.200578Z",
     "start_time": "2025-05-29T10:13:56.700021Z"
    }
   },
   "cell_type": "code",
   "source": [
    "/**uppercase()*/\n",
    "val userName = \"Isaac Aunng\"\n",
    "println(\"Convert into `upper case` : ${userName.toUpperCase()}\")"
   ],
   "outputs": [
    {
     "name": "stdout",
     "output_type": "stream",
     "text": [
      "Convert into `upper case` : ISAAC AUNNG\r\n"
     ]
    }
   ],
   "execution_count": 9
  },
  {
   "metadata": {
    "ExecuteTime": {
     "end_time": "2025-05-29T10:14:23.602650600Z",
     "start_time": "2025-05-29T10:14:23.470454800Z"
    }
   },
   "cell_type": "code",
   "source": [
    "/**lowercase()*/\n",
    "val userName = \"Isaac Aunng\"\n",
    "println(\"Convert into `lower case` : ${userName.toLowerCase()}\")"
   ],
   "outputs": [
    {
     "name": "stdout",
     "output_type": "stream",
     "text": [
      "Convert into `lower case` : isaac aunng\r\n"
     ]
    }
   ],
   "execution_count": 10
  },
  {
   "metadata": {
    "ExecuteTime": {
     "end_time": "2025-05-29T10:14:46.692417900Z",
     "start_time": "2025-05-29T10:14:46.556771900Z"
    }
   },
   "cell_type": "code",
   "source": [
    "/**Indexing*/\n",
    "val someRandomName = \"John Doe\"\n",
    "println(\"The letter at the index of 5 of a string is ${someRandomName[5]}\")"
   ],
   "outputs": [
    {
     "name": "stdout",
     "output_type": "stream",
     "text": [
      "The letter at the index of 5 of a string is D\r\n"
     ]
    }
   ],
   "execution_count": 11
  },
  {
   "metadata": {
    "ExecuteTime": {
     "end_time": "2025-05-29T10:15:10.700327800Z",
     "start_time": "2025-05-29T10:15:10.592609200Z"
    }
   },
   "cell_type": "code",
   "source": [
    "/**substringBefore(\"\")*/\n",
    "val someRandomNumber = \"John Doe\"\n",
    "println(\"First Name : ${someRandomNumber.substringBefore(\" \")}\")"
   ],
   "outputs": [
    {
     "name": "stdout",
     "output_type": "stream",
     "text": [
      "First Name : John\r\n"
     ]
    }
   ],
   "execution_count": 12
  },
  {
   "metadata": {
    "ExecuteTime": {
     "end_time": "2025-05-29T10:15:30.874818200Z",
     "start_time": "2025-05-29T10:15:30.769207500Z"
    }
   },
   "cell_type": "code",
   "source": [
    "/**substringAfter(\"\")*/\n",
    "val someRandomNumber = \"John Doe\"\n",
    "println(\"Last Name : ${someRandomNumber.substringAfter(\" \")}\")"
   ],
   "outputs": [
    {
     "name": "stdout",
     "output_type": "stream",
     "text": [
      "Last Name : Doe\r\n"
     ]
    }
   ],
   "execution_count": 13
  },
  {
   "metadata": {
    "ExecuteTime": {
     "end_time": "2025-05-29T10:17:02.357525500Z",
     "start_time": "2025-05-29T10:17:02.280617300Z"
    }
   },
   "cell_type": "code",
   "source": [
    "/**split(\"\")*/\n",
    "val someDummyName = \"John Doe\"\n",
    "println(\"Split John Doe at \\\" \\\" ${someDummyName.split(\" \")}\")"
   ],
   "outputs": [
    {
     "name": "stdout",
     "output_type": "stream",
     "text": [
      "Split John Doe at \" \" [John, Doe]\r\n"
     ]
    }
   ],
   "execution_count": 18
  }
 ],
 "metadata": {
  "kernelspec": {
   "display_name": "Kotlin",
   "language": "kotlin",
   "name": "kotlin"
  },
  "language_info": {
   "name": "kotlin",
   "version": "1.9.23",
   "mimetype": "text/x-kotlin",
   "file_extension": ".kt",
   "pygments_lexer": "kotlin",
   "codemirror_mode": "text/x-kotlin",
   "nbconvert_exporter": ""
  }
 },
 "nbformat": 4,
 "nbformat_minor": 0
}
