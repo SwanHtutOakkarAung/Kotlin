{
 "cells": [
  {
   "metadata": {},
   "cell_type": "markdown",
   "source": "BOOLEAN DATA TYPES"
  },
  {
   "metadata": {
    "ExecuteTime": {
     "end_time": "2025-05-24T07:38:22.520956200Z",
     "start_time": "2025-05-24T07:38:22.320849800Z"
    }
   },
   "cell_type": "code",
   "source": [
    "/**true*/\n",
    "val isTrue: Boolean = true\n",
    "println(\"Am I successful? $isTrue\")"
   ],
   "outputs": [
    {
     "name": "stdout",
     "output_type": "stream",
     "text": [
      "Am I successful? true\r\n"
     ]
    }
   ],
   "execution_count": 1
  },
  {
   "metadata": {
    "ExecuteTime": {
     "end_time": "2025-05-24T07:39:23.268266500Z",
     "start_time": "2025-05-24T07:39:23.189155900Z"
    }
   },
   "cell_type": "code",
   "source": [
    "/**false*/\n",
    "val isFalse: Boolean = false\n",
    "println(\"Am I ugly? $isFalse\")"
   ],
   "outputs": [
    {
     "name": "stdout",
     "output_type": "stream",
     "text": [
      "Am I ugly? false\r\n"
     ]
    }
   ],
   "execution_count": 2
  },
  {
   "metadata": {
    "ExecuteTime": {
     "end_time": "2025-05-24T07:41:35.587813500Z",
     "start_time": "2025-05-24T07:41:35.504897Z"
    }
   },
   "cell_type": "code",
   "source": [
    "/**null*/\n",
    "val isCertain: Boolean? = null\n",
    "println(\"See the crocodile? $isCertain\")"
   ],
   "outputs": [
    {
     "name": "stdout",
     "output_type": "stream",
     "text": [
      "See the crocodile? null\r\n"
     ]
    }
   ],
   "execution_count": 3
  }
 ],
 "metadata": {
  "kernelspec": {
   "display_name": "Kotlin",
   "language": "kotlin",
   "name": "kotlin"
  },
  "language_info": {
   "name": "kotlin",
   "version": "1.9.23",
   "mimetype": "text/x-kotlin",
   "file_extension": ".kt",
   "pygments_lexer": "kotlin",
   "codemirror_mode": "text/x-kotlin",
   "nbconvert_exporter": ""
  }
 },
 "nbformat": 4,
 "nbformat_minor": 0
}
