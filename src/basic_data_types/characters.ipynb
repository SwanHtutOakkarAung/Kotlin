{
 "cells": [
  {
   "metadata": {},
   "cell_type": "markdown",
   "source": "CHARACTER DATA TYPES"
  },
  {
   "metadata": {
    "ExecuteTime": {
     "end_time": "2025-05-29T10:59:55.169682400Z",
     "start_time": "2025-05-29T10:59:54.886245400Z"
    }
   },
   "cell_type": "code",
   "source": [
    "val char: Char = 'a'\n",
    "println(\"Character is $char.\")"
   ],
   "outputs": [
    {
     "name": "stdout",
     "output_type": "stream",
     "text": [
      "Character is a.\r\n"
     ]
    }
   ],
   "execution_count": 11
  },
  {
   "metadata": {
    "ExecuteTime": {
     "end_time": "2025-05-29T11:02:31.861463Z",
     "start_time": "2025-05-29T11:02:31.766561100Z"
    }
   },
   "cell_type": "code",
   "source": [
    "/**To convert the Int value to a Char => needs explicit conversion\n",
    " * Int => Char*/\n",
    "val whatChar: Char = 97.toChar()\n",
    "println(\"97 in character is $whatChar.\")"
   ],
   "outputs": [
    {
     "name": "stdout",
     "output_type": "stream",
     "text": [
      "97 in character is a.\r\n"
     ]
    }
   ],
   "execution_count": 14
  },
  {
   "metadata": {
    "ExecuteTime": {
     "end_time": "2025-05-29T11:07:01.703715Z",
     "start_time": "2025-05-29T11:07:01.580444900Z"
    }
   },
   "cell_type": "code",
   "source": [
    "/**To convert the Char value to an Int => needs explicit conversion\n",
    " * Char => Int*/\n",
    "val whatNumber: Int = 'a'.code\n",
    "println(\"a corresponds to the number $whatNumber\")"
   ],
   "outputs": [
    {
     "name": "stdout",
     "output_type": "stream",
     "text": [
      "a corresponds to the number 97\r\n"
     ]
    }
   ],
   "execution_count": 16
  },
  {
   "metadata": {},
   "cell_type": "markdown",
   "source": "ESCAPING CHARACTERS"
  },
  {
   "metadata": {},
   "cell_type": "code",
   "outputs": [
    {
     "name": "stdout",
     "output_type": "stream",
     "text": [
      "\t move one tab\r\n"
     ]
    }
   ],
   "execution_count": 2,
   "source": [
    "/**\\t means tab*/\n",
    "println(\"\\t move one tab\")"
   ]
  },
  {
   "metadata": {
    "ExecuteTime": {
     "end_time": "2025-05-24T07:45:35.750728500Z",
     "start_time": "2025-05-24T07:45:35.693048800Z"
    }
   },
   "cell_type": "code",
   "source": [
    "/**\\n new line*/\n",
    "println(\"\\n go to next line\")"
   ],
   "outputs": [
    {
     "name": "stdout",
     "output_type": "stream",
     "text": [
      "\n",
      " go to next line\r\n"
     ]
    }
   ],
   "execution_count": 3
  },
  {
   "metadata": {
    "ExecuteTime": {
     "end_time": "2025-05-24T07:46:58.064480Z",
     "start_time": "2025-05-24T07:46:58.007427Z"
    }
   },
   "cell_type": "code",
   "source": [
    "/**\\' means single quotation mark*/\n",
    "println(\"This is \\'single quotation mark\\'\")"
   ],
   "outputs": [
    {
     "name": "stdout",
     "output_type": "stream",
     "text": [
      "This is 'single quotation mark'\r\n"
     ]
    }
   ],
   "execution_count": 4
  },
  {
   "metadata": {
    "ExecuteTime": {
     "end_time": "2025-05-24T07:47:33.319041100Z",
     "start_time": "2025-05-24T07:47:33.267464200Z"
    }
   },
   "cell_type": "code",
   "source": [
    "/**\\\" means double quotation mark*/\n",
    "println(\"This is \\\"double quotation mark\\\"\")"
   ],
   "outputs": [
    {
     "name": "stdout",
     "output_type": "stream",
     "text": [
      "This is \"double quotation mark\"\r\n"
     ]
    }
   ],
   "execution_count": 5
  },
  {
   "metadata": {
    "ExecuteTime": {
     "end_time": "2025-05-29T10:41:33.248188400Z",
     "start_time": "2025-05-29T10:41:33.049822100Z"
    }
   },
   "cell_type": "code",
   "source": [
    "/**\\b means hitting one backspace key*/\n",
    "println(\"The orginal word is KOTLIN.\")\n",
    "println(\"Delete \\'T\\'\")\n",
    "println(\"KOT\\bLIN\")"
   ],
   "outputs": [
    {
     "name": "stdout",
     "output_type": "stream",
     "text": [
      "The orginal word is KOTLIN.\r\n",
      "Delete 'T'\r\n",
      "KOLIN\r\n"
     ]
    }
   ],
   "execution_count": 1
  },
  {
   "metadata": {
    "ExecuteTime": {
     "end_time": "2025-05-29T10:48:50.188575700Z",
     "start_time": "2025-05-29T10:48:50.093302800Z"
    }
   },
   "cell_type": "code",
   "source": [
    "/**\\r means carriage return\n",
    " * It moves the cursor back to the begining of the current line, without advancing to the next line.\n",
    " * It does not delete the line.\n",
    " * It overwrites the content from the start of the line if more text is printed afterward.*/\n",
    "println(\"The original word is Hello World.\")\n",
    "println(\"Hello World\\rHi\")"
   ],
   "outputs": [
    {
     "name": "stdout",
     "output_type": "stream",
     "text": [
      "The original word is Hello World.\r\n",
      "Hillo World\r\n"
     ]
    }
   ],
   "execution_count": 3
  },
  {
   "metadata": {
    "ExecuteTime": {
     "end_time": "2025-05-29T10:53:01.427208100Z",
     "start_time": "2025-05-29T10:53:01.335238900Z"
    }
   },
   "cell_type": "code",
   "source": [
    "/**\\\\ means to write a literal backslash*/\n",
    "println(\"C:\\\\Users\\\\Penye\")"
   ],
   "outputs": [
    {
     "name": "stdout",
     "output_type": "stream",
     "text": [
      "C:\\Users\\Penye\r\n"
     ]
    }
   ],
   "execution_count": 5
  },
  {
   "metadata": {
    "ExecuteTime": {
     "end_time": "2025-05-29T10:57:57.264201900Z",
     "start_time": "2025-05-29T10:57:57.176995900Z"
    }
   },
   "cell_type": "code",
   "source": [
    "/**\\$ means to write a literal dollar sign*/\n",
    "val price = 50\n",
    "println(\"The price is \\$$price\")"
   ],
   "outputs": [
    {
     "name": "stdout",
     "output_type": "stream",
     "text": [
      "The price is $50\r\n"
     ]
    }
   ],
   "execution_count": 10
  }
 ],
 "metadata": {
  "kernelspec": {
   "display_name": "Kotlin",
   "language": "kotlin",
   "name": "kotlin"
  },
  "language_info": {
   "name": "kotlin",
   "version": "1.9.23",
   "mimetype": "text/x-kotlin",
   "file_extension": ".kt",
   "pygments_lexer": "kotlin",
   "codemirror_mode": "text/x-kotlin",
   "nbconvert_exporter": ""
  }
 },
 "nbformat": 4,
 "nbformat_minor": 0
}
