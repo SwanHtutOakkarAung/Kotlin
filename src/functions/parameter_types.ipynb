{
 "cells": [
  {
   "metadata": {},
   "cell_type": "markdown",
   "source": "DIFFERENT PARAMETER TYPES"
  },
  {
   "metadata": {
    "ExecuteTime": {
     "end_time": "2025-05-31T10:28:53.539948400Z",
     "start_time": "2025-05-31T10:28:53.322246700Z"
    }
   },
   "cell_type": "code",
   "source": [
    "/**with default parameters*/\n",
    "fun summation(numberOne: Int, numberTwo: Int = 0) = println(\"The summation is ${numberOne + numberTwo}\")\n",
    "summation(5)\n",
    "summation(4,5)"
   ],
   "outputs": [
    {
     "name": "stdout",
     "output_type": "stream",
     "text": [
      "The summation is 5\r\n",
      "The summation is 9\r\n"
     ]
    }
   ],
   "execution_count": 2
  },
  {
   "metadata": {
    "ExecuteTime": {
     "end_time": "2025-05-31T11:07:18.011917100Z",
     "start_time": "2025-05-31T11:07:17.659164100Z"
    }
   },
   "cell_type": "code",
   "source": [
    "/**with oprional parameters*/\n",
    "fun info(name: String? = null, age: Int? = null, address: String? = null): String{\n",
    "    //use val for direct assignment\n",
    "    val info = if(null != name){\n",
    "        \"Name - $name \\t Age - $age \\t Address - $address\"\n",
    "    }else if(null != age){\n",
    "        \"Name - $name \\t Age - $age \\t Address - $address\"\n",
    "    }else if(null != address){\n",
    "        \"Name - $name \\t Age - $age \\t Address - $address\"\n",
    "    }else{\n",
    "        \"Name - $name \\t Age - $age \\t Address - $address\"\n",
    "    }\n",
    "    return info\n",
    "}\n",
    "println(info())\n",
    "println(info(\"Penye\"))\n",
    "println(info(age=26))\n",
    "//Calling info(26) treats 26 as the first parameter: name, which expects a String?.\n",
    "//But you're giving it an Int.\n",
    "//Kotlin doesn’t auto-cast like that.\n",
    "println(info(address=\"Bangkok\"))\n",
    "println(info(\"Penye\",26,\"Bangkok\"))"
   ],
   "outputs": [
    {
     "name": "stdout",
     "output_type": "stream",
     "text": [
      "Name - null \t Age - null \t Address - null\r\n",
      "Name - Penye \t Age - null \t Address - null\r\n",
      "Name - null \t Age - 26 \t Address - null\r\n",
      "Name - null \t Age - null \t Address - Bangkok\r\n",
      "Name - Penye \t Age - 26 \t Address - Bangkok\r\n"
     ]
    }
   ],
   "execution_count": 19
  }
 ],
 "metadata": {
  "kernelspec": {
   "display_name": "Kotlin",
   "language": "kotlin",
   "name": "kotlin"
  },
  "language_info": {
   "name": "kotlin",
   "version": "1.9.23",
   "mimetype": "text/x-kotlin",
   "file_extension": ".kt",
   "pygments_lexer": "kotlin",
   "codemirror_mode": "text/x-kotlin",
   "nbconvert_exporter": ""
  }
 },
 "nbformat": 4,
 "nbformat_minor": 0
}
