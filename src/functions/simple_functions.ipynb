{
 "cells": [
  {
   "metadata": {},
   "cell_type": "markdown",
   "source": "FUNCTION SYNTAX"
  },
  {
   "metadata": {},
   "cell_type": "code",
   "outputs": [
    {
     "name": "stdout",
     "output_type": "stream",
     "text": [
      "The square of 50 is 2500\r\n"
     ]
    }
   ],
   "execution_count": 1,
   "source": [
    "/**Unit function*/\n",
    "fun square(number: Int){\n",
    "    println(\"The square of $number is ${number * number}\")\n",
    "}\n",
    "square(50)"
   ]
  },
  {
   "metadata": {},
   "cell_type": "code",
   "outputs": [
    {
     "name": "stdout",
     "output_type": "stream",
     "text": [
      "The square of 50 is 2500\r\n"
     ]
    }
   ],
   "execution_count": 2,
   "source": [
    "/**with one unit statement*/\n",
    "fun square(number: Int) = println(\"The square of $number is ${number * number}\")\n",
    "square(50)"
   ]
  },
  {
   "metadata": {},
   "cell_type": "code",
   "outputs": [
    {
     "name": "stdout",
     "output_type": "stream",
     "text": [
      "The result is 14\r\n"
     ]
    }
   ],
   "execution_count": 3,
   "source": [
    "/**Return function*/\n",
    "fun add(numberOne: Int, numberTwo: Int): Int{\n",
    "    return numberOne + numberTwo;\n",
    "}\n",
    "val result = add(10,4)\n",
    "println(\"The result is $result\")"
   ]
  },
  {
   "metadata": {},
   "cell_type": "code",
   "outputs": [
    {
     "name": "stdout",
     "output_type": "stream",
     "text": [
      "The result is 14\r\n"
     ]
    }
   ],
   "execution_count": 4,
   "source": [
    "/**with one return statement*/\n",
    "fun add(numberOne: Int, numberTwo: Int): Int = numberOne + numberTwo\n",
    "val result = add(10,4)\n",
    "println(\"The result is $result\")"
   ]
  },
  {
   "metadata": {},
   "cell_type": "code",
   "outputs": [
    {
     "name": "stdout",
     "output_type": "stream",
     "text": [
      "Number 2 is Even\r\n"
     ]
    }
   ],
   "execution_count": 5,
   "source": [
    "/**if else in a function*/\n",
    "fun evenOrOdd(number : Int): String {\n",
    "    return if(number % 2 == 0){\n",
    "        \"Even\"\n",
    "    }else{\n",
    "        \"Odd\"\n",
    "    }\n",
    "}\n",
    "println(\"Number 2 is ${evenOrOdd(2)}\")"
   ]
  },
  {
   "metadata": {},
   "cell_type": "code",
   "outputs": [
    {
     "name": "stdout",
     "output_type": "stream",
     "text": [
      "Number 2 is Even\r\n"
     ]
    }
   ],
   "execution_count": 6,
   "source": [
    "/**ternary operator with return statement*/\n",
    "fun evenOrOdd(number: Int):String = if(number % 2 == 0) \"Even\" else \"Odd\"\n",
    "println(\"Number 2 is ${evenOrOdd(2)}\")"
   ]
  }
 ],
 "metadata": {
  "kernelspec": {
   "display_name": "Kotlin",
   "language": "kotlin",
   "name": "kotlin"
  },
  "language_info": {
   "name": "kotlin",
   "version": "1.9.23",
   "mimetype": "text/x-kotlin",
   "file_extension": ".kt",
   "pygments_lexer": "kotlin",
   "codemirror_mode": "text/x-kotlin",
   "nbconvert_exporter": ""
  }
 },
 "nbformat": 4,
 "nbformat_minor": 0
}
